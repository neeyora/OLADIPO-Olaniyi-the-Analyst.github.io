{
  "nbformat": 4,
  "nbformat_minor": 0,
  "metadata": {
    "colab": {
      "name": "Dallas DSA Customer Renewal Prediction.ipynb",
      "provenance": [],
      "collapsed_sections": [],
      "include_colab_link": true
    },
    "kernelspec": {
      "name": "python3",
      "display_name": "Python 3"
    },
    "language_info": {
      "name": "python"
    }
  },
  "cells": [
    {
      "cell_type": "markdown",
      "metadata": {
        "id": "view-in-github",
        "colab_type": "text"
      },
      "source": [
        "<a href=\"https://colab.research.google.com/github/neeyora/OLADIPO-Olaniyi-the-Analyst.github.io/blob/main/Dallas_DSA_Customer_Renewal_Prediction.ipynb\" target=\"_parent\"><img src=\"https://colab.research.google.com/assets/colab-badge.svg\" alt=\"Open In Colab\"/></a>"
      ]
    },
    {
      "cell_type": "code",
      "execution_count": null,
      "metadata": {
        "id": "-B3XNoeU6uTJ"
      },
      "outputs": [],
      "source": [
        "import numpy as np\n",
        "import pandas as pd"
      ]
    },
    {
      "cell_type": "code",
      "source": [
        "url = 'https://raw.githubusercontent.com/nvamsimohan/DallasDSA/main/Customer%20renewal%20dataset.csv'\n",
        "df = pd.read_csv(url)\n",
        "df"
      ],
      "metadata": {
        "id": "jS_GFSvB62v9"
      },
      "execution_count": null,
      "outputs": []
    },
    {
      "cell_type": "code",
      "source": [
        "df.to_csv(\"customer datafile.csv\")"
      ],
      "metadata": {
        "id": "Zk9Znuy77LRa"
      },
      "execution_count": null,
      "outputs": []
    },
    {
      "cell_type": "code",
      "source": [
        "df.dtypes"
      ],
      "metadata": {
        "id": "9dMu7-Av7-4k"
      },
      "execution_count": null,
      "outputs": []
    },
    {
      "cell_type": "code",
      "source": [
        "df.isnull().sum()"
      ],
      "metadata": {
        "id": "u8A-n42t8KqH"
      },
      "execution_count": null,
      "outputs": []
    },
    {
      "cell_type": "code",
      "source": [
        "!pip install sweetviz"
      ],
      "metadata": {
        "id": "3B_1I4Sn9iYK"
      },
      "execution_count": null,
      "outputs": []
    },
    {
      "cell_type": "code",
      "source": [
        "import sweetviz as sv\n",
        "Customer_EDA_Report = sv.analyze(df)\n",
        "Customer_EDA_Report.show_html()\n",
        "from google.colab import files\n",
        "files.download(\"SWEETVIZ_REPORT.html\")"
      ],
      "metadata": {
        "id": "-mtV6F9J9wvv"
      },
      "execution_count": null,
      "outputs": []
    },
    {
      "cell_type": "code",
      "source": [
        "!pip install pycaret --upgrade"
      ],
      "metadata": {
        "id": "nJ9GQL59AJGA"
      },
      "execution_count": null,
      "outputs": []
    },
    {
      "cell_type": "code",
      "source": [
        "import numpy as np\n",
        "import pandas as pd\n",
        "url = 'https://raw.githubusercontent.com/nvamsimohan/DallasDSA/main/Customer%20renewal%20dataset.csv'\n",
        "df = pd.read_csv(url)\n",
        "df"
      ],
      "metadata": {
        "id": "imZbj5GxAywQ"
      },
      "execution_count": null,
      "outputs": []
    },
    {
      "cell_type": "code",
      "source": [
        "num_cols=['tenure','camp_data_rem_days','age_1','estimated_hh_income_in_000','retention_calls_60days','sales_calls_60days','acct_services_calls_60days','collections_calls_60days','tech_support_calls_60days','total_calls_offered_90days','total_1mo_data_usage','home_max_speed',]\n",
        "cat_cols=['price_protection_flag','basic_flag','data_flag','residential_telephony_flag','competitor','psu_combo']"
      ],
      "metadata": {
        "id": "b9zI8GEHBWtc"
      },
      "execution_count": null,
      "outputs": []
    },
    {
      "cell_type": "code",
      "source": [
        "from pycaret.classification import *"
      ],
      "metadata": {
        "id": "zMp-YR8vG1tF"
      },
      "execution_count": null,
      "outputs": []
    },
    {
      "cell_type": "code",
      "source": [
        "classification_model_setup = setup(df, target = 'TARGET', categorical_features= cat_cols, numeric_features=num_cols)"
      ],
      "metadata": {
        "id": "NwRIO1HnWznR"
      },
      "execution_count": null,
      "outputs": []
    },
    {
      "cell_type": "code",
      "source": [
        "compare_models(budget_time=1)"
      ],
      "metadata": {
        "id": "ZtVveOe4XtQy"
      },
      "execution_count": null,
      "outputs": []
    },
    {
      "cell_type": "code",
      "source": [
        "model = create_model('lr')"
      ],
      "metadata": {
        "id": "1Unj43FaY4Cp"
      },
      "execution_count": null,
      "outputs": []
    },
    {
      "cell_type": "code",
      "source": [
        "evaluate_model (model)"
      ],
      "metadata": {
        "id": "GmIePqqFaVRW"
      },
      "execution_count": null,
      "outputs": []
    },
    {
      "cell_type": "code",
      "source": [
        "url1 = 'https://raw.githubusercontent.com/nvamsimohan/DallasDSA/main/Customer%20renewal%20dataset.csv'\n",
        "pred_data = pd.read_csv(url1)"
      ],
      "metadata": {
        "id": "CuT1WXq9aubg"
      },
      "execution_count": null,
      "outputs": []
    },
    {
      "cell_type": "code",
      "source": [
        "pred_data.shape"
      ],
      "metadata": {
        "id": "KaG_4DeQbNef"
      },
      "execution_count": null,
      "outputs": []
    },
    {
      "cell_type": "code",
      "source": [
        "predictions = predict_model(model, data = pred_data)"
      ],
      "metadata": {
        "id": "obPYqcDbbXlu"
      },
      "execution_count": null,
      "outputs": []
    },
    {
      "cell_type": "code",
      "source": [
        "predictions.to_csv(\"Customers TARGET Predictions.csv\")"
      ],
      "metadata": {
        "id": "W9ym3Fp0b0_0"
      },
      "execution_count": null,
      "outputs": []
    },
    {
      "cell_type": "code",
      "source": [
        "!pip install h2o"
      ],
      "metadata": {
        "id": "dgZ9WGtDcPRL"
      },
      "execution_count": null,
      "outputs": []
    },
    {
      "cell_type": "code",
      "source": [
        "import h2o\n",
        "from h2o.automl import H2OAutoML"
      ],
      "metadata": {
        "id": "WqNGjAc5chFK"
      },
      "execution_count": null,
      "outputs": []
    },
    {
      "cell_type": "code",
      "source": [
        "h2o.init()"
      ],
      "metadata": {
        "id": "hKbYKSUEc0lX"
      },
      "execution_count": null,
      "outputs": []
    },
    {
      "cell_type": "code",
      "source": [
        "import pandas as pd\n",
        "df1 = pd.read_csv(url)\n",
        "hf = h2o.H2OFrame(df1)\n",
        "hf"
      ],
      "metadata": {
        "id": "TS8w8_40dIC6"
      },
      "execution_count": null,
      "outputs": []
    },
    {
      "cell_type": "code",
      "source": [
        "splits = hf.split_frame(ratios = [0.8])\n",
        "train = splits [0]\n",
        "test = splits [1]"
      ],
      "metadata": {
        "id": "3cyB-GcTdz_L"
      },
      "execution_count": null,
      "outputs": []
    },
    {
      "cell_type": "code",
      "source": [
        "aml = H2OAutoML (max_runtime_secs = 30)\n",
        "aml.train(y = \"TARGET\", training_frame = train)"
      ],
      "metadata": {
        "id": "4hj_keWQj6Lx"
      },
      "execution_count": null,
      "outputs": []
    },
    {
      "cell_type": "code",
      "source": [
        "aml.leaderboard.head(20)"
      ],
      "metadata": {
        "id": "l-Gr5Js-k4Oq"
      },
      "execution_count": null,
      "outputs": []
    },
    {
      "cell_type": "code",
      "source": [
        "perf = aml.leader.model_performance(test)\n",
        "perf"
      ],
      "metadata": {
        "id": "rZWtPCf2lyME"
      },
      "execution_count": null,
      "outputs": []
    },
    {
      "cell_type": "code",
      "source": [
        "client_data = pd.read_csv(url1)\n",
        "hf_client = h2o.H2OFrame(client_data)\n",
        "hf_client"
      ],
      "metadata": {
        "id": "0KCix1zNmI4G"
      },
      "execution_count": null,
      "outputs": []
    },
    {
      "cell_type": "code",
      "source": [
        "pred = aml.predict(hf_client)\n",
        "pred.head()"
      ],
      "metadata": {
        "id": "wDFAeAgWm0nu"
      },
      "execution_count": null,
      "outputs": []
    },
    {
      "cell_type": "code",
      "source": [
        "pred_df = pred.as_data_frame()"
      ],
      "metadata": {
        "id": "nv-B9FT4nVbn"
      },
      "execution_count": null,
      "outputs": []
    },
    {
      "cell_type": "code",
      "source": [
        "client_data['Prediction'] = pred_df['predict']"
      ],
      "metadata": {
        "id": "tvPoq2CynkAR"
      },
      "execution_count": null,
      "outputs": []
    },
    {
      "cell_type": "code",
      "source": [
        "client_data.to_csv('Customer Data Predictions.csv')"
      ],
      "metadata": {
        "id": "REsc87xboB4E"
      },
      "execution_count": null,
      "outputs": []
    },
    {
      "cell_type": "code",
      "source": [
        "from google.colab import files\n",
        "files.download(\"Customer Data Predictions.csv\")"
      ],
      "metadata": {
        "id": "U3F6AQhWpBT1"
      },
      "execution_count": null,
      "outputs": []
    },
    {
      "cell_type": "markdown",
      "source": [
        ""
      ],
      "metadata": {
        "id": "wnrlqn5ZFqJV"
      }
    }
  ]
}